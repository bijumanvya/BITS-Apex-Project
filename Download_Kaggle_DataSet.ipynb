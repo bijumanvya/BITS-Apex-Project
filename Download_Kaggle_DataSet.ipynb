{
  "nbformat": 4,
  "nbformat_minor": 0,
  "metadata": {
    "colab": {
      "provenance": [],
      "authorship_tag": "ABX9TyPBua5JH+xuS1uHSkePLdvm",
      "include_colab_link": true
    },
    "kernelspec": {
      "name": "python3",
      "display_name": "Python 3"
    },
    "language_info": {
      "name": "python"
    }
  },
  "cells": [
    {
      "cell_type": "markdown",
      "metadata": {
        "id": "view-in-github",
        "colab_type": "text"
      },
      "source": [
        "<a href=\"https://colab.research.google.com/github/bijumanvya/BITS-Apex-Project/blob/main/Download_Kaggle_DataSet.ipynb\" target=\"_parent\"><img src=\"https://colab.research.google.com/assets/colab-badge.svg\" alt=\"Open In Colab\"/></a>"
      ]
    },
    {
      "cell_type": "markdown",
      "source": [
        "\n",
        "    ##Download and extract a Kaggle dataset into Google Drive using Kaggle API (without kaggle.json).\n",
        "    If Folder existm, use the existing folder, else create one\n",
        "    Download latest version into it. Clean the extracted files if exist and update with recent files.\n",
        "    \n",
        "    Parameters:\n",
        "        dataset (str): Kaggle dataset identifier (e.g., \"imakash3011/rental-bike-sharing\")\n",
        "        username (str): Your Kaggle username\n",
        "        key (str): Your Kaggle API key\n",
        "        drive_path (str): Path in Google Drive to save data (default: kaggle_data folder)\n",
        "        \n",
        "    Returns:\n",
        "        List[str]: List of extracted file paths\n",
        "       "
      ],
      "metadata": {
        "id": "ZFo68oJ9WFNb"
      }
    },
    {
      "cell_type": "code",
      "source": [
        "import os\n",
        "import zipfile\n",
        "import shutil\n",
        "\n",
        "def download_and_extract_kaggle_dataset(dataset: str, username: str, key: str, drive_path: str = \"./kaggle_data\"):\n",
        "\n",
        "    # Set Kaggle credentials from Python\n",
        "    os.environ[\"KAGGLE_USERNAME\"] = username\n",
        "    os.environ[\"KAGGLE_KEY\"] = key\n",
        "\n",
        "    # Ensure folder exists (reuse if already exists)\n",
        "    if not os.path.exists(drive_path):\n",
        "        os.makedirs(drive_path, exist_ok=True)\n",
        "\n",
        "    # Download dataset zip (overwrite if exists)\n",
        "    print(f\"Downloading {dataset} to {drive_path} ...\")\n",
        "    os.system(f'kaggle datasets download -d {dataset} -p {drive_path} --force')\n",
        "\n",
        "    # Zip file path\n",
        "    zip_filename = dataset.split(\"/\")[-1] + \".zip\"\n",
        "    zip_path = os.path.join(drive_path, zip_filename)\n",
        "\n",
        "    # If old extracted content exists, clear it (but keep the zip file for re-extraction)\n",
        "    for item in os.listdir(drive_path):\n",
        "        item_path = os.path.join(drive_path, item)\n",
        "        if item_path != zip_path:\n",
        "            if os.path.isdir(item_path):\n",
        "                shutil.rmtree(item_path)\n",
        "            else:\n",
        "                os.remove(item_path)\n",
        "\n",
        "    # Extract files (overwrite old files if exist)\n",
        "    extracted_files = []\n",
        "    with zipfile.ZipFile(zip_path, \"r\") as zip_ref:\n",
        "        zip_ref.extractall(drive_path)\n",
        "        extracted_files = [os.path.join(drive_path, f) for f in zip_ref.namelist()]\n",
        "\n",
        "    print(\"Extraction completed!\")\n",
        "    return extracted_files\n"
      ],
      "metadata": {
        "id": "OFtmdxrTPf1M"
      },
      "execution_count": 7,
      "outputs": []
    },
    {
      "cell_type": "code",
      "source": [
        "# Example: Rental Bike Sharing dataset\n",
        "from google.colab import drive\n",
        "drive.mount('/content/drive')\n",
        "\n",
        "files = download_and_extract_kaggle_dataset(\n",
        "    dataset=\"imakash3011/rental-bike-sharing\",\n",
        "    username=\"bijumanvya\",\n",
        "    key=\"9b5c1a770ec8e48f92c338b723401cad\",\n",
        "    drive_path=\"/content/drive/MyDrive/BITS_APEX_PROJECT/Data\"\n",
        ")\n",
        "\n",
        "print(\"Extracted files:\", files)\n",
        "\n",
        "# Load directly into Pandas\n",
        "import pandas as pd\n",
        "day_data = pd.read_csv([f for f in files if \"day.csv\" in f][0])\n",
        "hour_data = pd.read_csv([f for f in files if \"hour.csv\" in f][0])\n",
        "\n",
        "print(day_data.head())\n",
        "print(hour_data.head())\n"
      ],
      "metadata": {
        "colab": {
          "base_uri": "https://localhost:8080/"
        },
        "id": "9uhCDetxSv7U",
        "outputId": "9210b69c-66c2-48dc-d8c8-aa13063d1174"
      },
      "execution_count": 9,
      "outputs": [
        {
          "output_type": "stream",
          "name": "stdout",
          "text": [
            "Drive already mounted at /content/drive; to attempt to forcibly remount, call drive.mount(\"/content/drive\", force_remount=True).\n",
            "Downloading imakash3011/rental-bike-sharing to /content/drive/MyDrive/BITS_APEX_PROJECT/Data ...\n",
            "Extraction completed!\n",
            "Extracted files: ['/content/drive/MyDrive/BITS_APEX_PROJECT/Data/Readme.txt', '/content/drive/MyDrive/BITS_APEX_PROJECT/Data/day.csv', '/content/drive/MyDrive/BITS_APEX_PROJECT/Data/hour.csv']\n",
            "   instant      dteday  season  yr  mnth  holiday  weekday  workingday  \\\n",
            "0        1  2011-01-01       1   0     1        0        6           0   \n",
            "1        2  2011-01-02       1   0     1        0        0           0   \n",
            "2        3  2011-01-03       1   0     1        0        1           1   \n",
            "3        4  2011-01-04       1   0     1        0        2           1   \n",
            "4        5  2011-01-05       1   0     1        0        3           1   \n",
            "\n",
            "   weathersit      temp     atemp       hum  windspeed  casual  registered  \\\n",
            "0           2  0.344167  0.363625  0.805833   0.160446     331         654   \n",
            "1           2  0.363478  0.353739  0.696087   0.248539     131         670   \n",
            "2           1  0.196364  0.189405  0.437273   0.248309     120        1229   \n",
            "3           1  0.200000  0.212122  0.590435   0.160296     108        1454   \n",
            "4           1  0.226957  0.229270  0.436957   0.186900      82        1518   \n",
            "\n",
            "    cnt  \n",
            "0   985  \n",
            "1   801  \n",
            "2  1349  \n",
            "3  1562  \n",
            "4  1600  \n",
            "   instant      dteday  season  yr  mnth  hr  holiday  weekday  workingday  \\\n",
            "0        1  2011-01-01       1   0     1   0        0        6           0   \n",
            "1        2  2011-01-01       1   0     1   1        0        6           0   \n",
            "2        3  2011-01-01       1   0     1   2        0        6           0   \n",
            "3        4  2011-01-01       1   0     1   3        0        6           0   \n",
            "4        5  2011-01-01       1   0     1   4        0        6           0   \n",
            "\n",
            "   weathersit  temp   atemp   hum  windspeed  casual  registered  cnt  \n",
            "0           1  0.24  0.2879  0.81        0.0       3          13   16  \n",
            "1           1  0.22  0.2727  0.80        0.0       8          32   40  \n",
            "2           1  0.22  0.2727  0.80        0.0       5          27   32  \n",
            "3           1  0.24  0.2879  0.75        0.0       3          10   13  \n",
            "4           1  0.24  0.2879  0.75        0.0       0           1    1  \n"
          ]
        }
      ]
    }
  ]
}